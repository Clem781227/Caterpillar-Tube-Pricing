{
  "nbformat": 4,
  "nbformat_minor": 0,
  "metadata": {
    "colab": {
      "name": "Caterpillar_tube_pricing.ipynb",
      "provenance": [],
      "collapsed_sections": [],
      "toc_visible": true
    },
    "kernelspec": {
      "name": "python3",
      "display_name": "Python 3"
    }
  },
  "cells": [
    {
      "cell_type": "markdown",
      "metadata": {
        "id": "KuSyw9RunDyM",
        "colab_type": "text"
      },
      "source": [
        "#0. Clone github repository"
      ]
    },
    {
      "cell_type": "code",
      "metadata": {
        "id": "OLh2mTS0nEHc",
        "colab_type": "code",
        "outputId": "d6475102-610b-4868-ac1e-6651bcaaad96",
        "colab": {
          "base_uri": "https://localhost:8080/",
          "height": 119
        }
      },
      "source": [
        "!git clone https://github.com/Clem781227/Caterpillar-Tube-Pricing.git"
      ],
      "execution_count": 0,
      "outputs": [
        {
          "output_type": "stream",
          "text": [
            "Cloning into 'Caterpillar-Tube-Pricing'...\n",
            "remote: Enumerating objects: 50, done.\u001b[K\n",
            "remote: Counting objects: 100% (50/50), done.\u001b[K\n",
            "remote: Compressing objects: 100% (45/45), done.\u001b[K\n",
            "remote: Total 50 (delta 7), reused 0 (delta 0), pack-reused 0\u001b[K\n",
            "Unpacking objects: 100% (50/50), done.\n"
          ],
          "name": "stdout"
        }
      ]
    },
    {
      "cell_type": "markdown",
      "metadata": {
        "id": "MbERXFLzp3TK",
        "colab_type": "text"
      },
      "source": [
        "#1. Import libraries"
      ]
    },
    {
      "cell_type": "code",
      "metadata": {
        "id": "dseWVyP-nbmu",
        "colab_type": "code",
        "outputId": "e52c5acf-ac45-4a68-d395-d73aeaf01504",
        "colab": {
          "base_uri": "https://localhost:8080/",
          "height": 34
        }
      },
      "source": [
        "import numpy as np\n",
        "import pandas as pd\n",
        "import os\n",
        "import sklearn\n",
        "from sklearn import ensemble, preprocessing\n",
        "import xgboost as xgb\n",
        "import matplotlib.pyplot as plt\n",
        "\n",
        "os.chdir('Caterpillar-Tube-Pricing')\n",
        "print(os.getcwd())\n",
        "\n",
        "from utils.utils import pred_ints, plot_predictions"
      ],
      "execution_count": 0,
      "outputs": [
        {
          "output_type": "stream",
          "text": [
            "/content/Caterpillar-Tube-Pricing\n"
          ],
          "name": "stdout"
        }
      ]
    },
    {
      "cell_type": "markdown",
      "metadata": {
        "id": "FzIEP45KqJ8E",
        "colab_type": "text"
      },
      "source": [
        "#2. Preprocessing"
      ]
    },
    {
      "cell_type": "code",
      "metadata": {
        "id": "MbxtYlmVf7W0",
        "colab_type": "code",
        "outputId": "d854bc1a-6161-48f8-bb5b-1deb791ae80f",
        "colab": {
          "base_uri": "https://localhost:8080/",
          "height": 34
        }
      },
      "source": [
        "os.chdir('data')\n",
        "print(os.getcwd())"
      ],
      "execution_count": 0,
      "outputs": [
        {
          "output_type": "stream",
          "text": [
            "/content/Caterpillar-Tube-Pricing/data\n"
          ],
          "name": "stdout"
        }
      ]
    },
    {
      "cell_type": "markdown",
      "metadata": {
        "id": "v33mWquUznZ8",
        "colab_type": "text"
      },
      "source": [
        "##2.0 Import files"
      ]
    },
    {
      "cell_type": "code",
      "metadata": {
        "id": "50k3fjNwr2Kj",
        "colab_type": "code",
        "colab": {}
      },
      "source": [
        "dftrain = pd.read_csv('train_set.csv')\n",
        "tube = pd.read_csv('tube.csv')\n",
        "bill_of_materials = pd.read_csv('bill_of_materials.csv')"
      ],
      "execution_count": 0,
      "outputs": []
    },
    {
      "cell_type": "markdown",
      "metadata": {
        "id": "jtrwxXCVztN4",
        "colab_type": "text"
      },
      "source": [
        "##2.1 Merge datasets"
      ]
    },
    {
      "cell_type": "code",
      "metadata": {
        "id": "Ho4mtAeI5QJT",
        "colab_type": "code",
        "outputId": "e67a3753-9fce-451b-81f1-f230b85099af",
        "colab": {
          "base_uri": "https://localhost:8080/",
          "height": 131
        }
      },
      "source": [
        "# merge datasets together\n",
        "dftrain = pd.merge(dftrain, tube, on ='tube_assembly_id')\n",
        "dftrain = pd.merge(dftrain, bill_of_materials, on ='tube_assembly_id')\n",
        "\n",
        "# count the number of different options for each variables \n",
        "dftrain.agg(['count','nunique'])"
      ],
      "execution_count": 0,
      "outputs": [
        {
          "output_type": "execute_result",
          "data": {
            "text/html": [
              "<div>\n",
              "<style scoped>\n",
              "    .dataframe tbody tr th:only-of-type {\n",
              "        vertical-align: middle;\n",
              "    }\n",
              "\n",
              "    .dataframe tbody tr th {\n",
              "        vertical-align: top;\n",
              "    }\n",
              "\n",
              "    .dataframe thead th {\n",
              "        text-align: right;\n",
              "    }\n",
              "</style>\n",
              "<table border=\"1\" class=\"dataframe\">\n",
              "  <thead>\n",
              "    <tr style=\"text-align: right;\">\n",
              "      <th></th>\n",
              "      <th>tube_assembly_id</th>\n",
              "      <th>supplier</th>\n",
              "      <th>quote_date</th>\n",
              "      <th>annual_usage</th>\n",
              "      <th>min_order_quantity</th>\n",
              "      <th>bracket_pricing</th>\n",
              "      <th>quantity</th>\n",
              "      <th>cost</th>\n",
              "      <th>material_id</th>\n",
              "      <th>diameter</th>\n",
              "      <th>wall</th>\n",
              "      <th>length</th>\n",
              "      <th>num_bends</th>\n",
              "      <th>bend_radius</th>\n",
              "      <th>end_a_1x</th>\n",
              "      <th>end_a_2x</th>\n",
              "      <th>end_x_1x</th>\n",
              "      <th>end_x_2x</th>\n",
              "      <th>end_a</th>\n",
              "      <th>end_x</th>\n",
              "      <th>num_boss</th>\n",
              "      <th>num_bracket</th>\n",
              "      <th>other</th>\n",
              "      <th>component_id_1</th>\n",
              "      <th>quantity_1</th>\n",
              "      <th>component_id_2</th>\n",
              "      <th>quantity_2</th>\n",
              "      <th>component_id_3</th>\n",
              "      <th>quantity_3</th>\n",
              "      <th>component_id_4</th>\n",
              "      <th>quantity_4</th>\n",
              "      <th>component_id_5</th>\n",
              "      <th>quantity_5</th>\n",
              "      <th>component_id_6</th>\n",
              "      <th>quantity_6</th>\n",
              "      <th>component_id_7</th>\n",
              "      <th>quantity_7</th>\n",
              "      <th>component_id_8</th>\n",
              "      <th>quantity_8</th>\n",
              "    </tr>\n",
              "  </thead>\n",
              "  <tbody>\n",
              "    <tr>\n",
              "      <th>count</th>\n",
              "      <td>30213</td>\n",
              "      <td>30213</td>\n",
              "      <td>30213</td>\n",
              "      <td>30213</td>\n",
              "      <td>30213</td>\n",
              "      <td>30213</td>\n",
              "      <td>30213</td>\n",
              "      <td>30213</td>\n",
              "      <td>29984</td>\n",
              "      <td>30213</td>\n",
              "      <td>30213</td>\n",
              "      <td>30213</td>\n",
              "      <td>30213</td>\n",
              "      <td>30213</td>\n",
              "      <td>30213</td>\n",
              "      <td>30213</td>\n",
              "      <td>30213</td>\n",
              "      <td>30213</td>\n",
              "      <td>30213</td>\n",
              "      <td>30213</td>\n",
              "      <td>30213</td>\n",
              "      <td>30213</td>\n",
              "      <td>30213</td>\n",
              "      <td>28751</td>\n",
              "      <td>28751</td>\n",
              "      <td>21084</td>\n",
              "      <td>21084</td>\n",
              "      <td>7155</td>\n",
              "      <td>7171</td>\n",
              "      <td>787</td>\n",
              "      <td>787</td>\n",
              "      <td>66</td>\n",
              "      <td>66</td>\n",
              "      <td>28</td>\n",
              "      <td>28</td>\n",
              "      <td>8</td>\n",
              "      <td>8</td>\n",
              "      <td>3</td>\n",
              "      <td>3</td>\n",
              "    </tr>\n",
              "    <tr>\n",
              "      <th>nunique</th>\n",
              "      <td>8855</td>\n",
              "      <td>57</td>\n",
              "      <td>1781</td>\n",
              "      <td>761</td>\n",
              "      <td>109</td>\n",
              "      <td>2</td>\n",
              "      <td>119</td>\n",
              "      <td>9380</td>\n",
              "      <td>17</td>\n",
              "      <td>45</td>\n",
              "      <td>29</td>\n",
              "      <td>343</td>\n",
              "      <td>18</td>\n",
              "      <td>74</td>\n",
              "      <td>2</td>\n",
              "      <td>2</td>\n",
              "      <td>2</td>\n",
              "      <td>2</td>\n",
              "      <td>25</td>\n",
              "      <td>24</td>\n",
              "      <td>6</td>\n",
              "      <td>4</td>\n",
              "      <td>8</td>\n",
              "      <td>642</td>\n",
              "      <td>4</td>\n",
              "      <td>452</td>\n",
              "      <td>4</td>\n",
              "      <td>302</td>\n",
              "      <td>4</td>\n",
              "      <td>104</td>\n",
              "      <td>4</td>\n",
              "      <td>29</td>\n",
              "      <td>2</td>\n",
              "      <td>10</td>\n",
              "      <td>2</td>\n",
              "      <td>3</td>\n",
              "      <td>1</td>\n",
              "      <td>1</td>\n",
              "      <td>1</td>\n",
              "    </tr>\n",
              "  </tbody>\n",
              "</table>\n",
              "</div>"
            ],
            "text/plain": [
              "         tube_assembly_id  supplier  ...  component_id_8  quantity_8\n",
              "count               30213     30213  ...               3           3\n",
              "nunique              8855        57  ...               1           1\n",
              "\n",
              "[2 rows x 39 columns]"
            ]
          },
          "metadata": {
            "tags": []
          },
          "execution_count": 5
        }
      ]
    },
    {
      "cell_type": "markdown",
      "metadata": {
        "id": "XEkwpH62NKdH",
        "colab_type": "text"
      },
      "source": [
        "##2.2 Analyse the correlation of variables"
      ]
    },
    {
      "cell_type": "code",
      "metadata": {
        "id": "N8xWZ_5nNJ4e",
        "colab_type": "code",
        "colab": {}
      },
      "source": [
        "numeric_variables = dftrain[['annual_usage','min_order_quantity','quantity','diameter','wall','length','num_bends','bend_radius']]"
      ],
      "execution_count": 0,
      "outputs": []
    },
    {
      "cell_type": "code",
      "metadata": {
        "id": "vcWwkEliNg9p",
        "colab_type": "code",
        "outputId": "b6e32377-2348-477d-8ed1-d23ac0a66274",
        "colab": {
          "base_uri": "https://localhost:8080/",
          "height": 668
        }
      },
      "source": [
        "import pandas as pd\n",
        "import seaborn as sns\n",
        "import matplotlib.pyplot as plt\n",
        "\n",
        "corrMatrix = numeric_variables.corr()\n",
        "plt.figure(figsize=(15,10))\n",
        "sns.heatmap(corrMatrix, annot=True)\n",
        "plt.title('Correlations between numeric variables',fontdict={'size':22})\n",
        "plt.show()\n",
        "# Numeric variables are not highly correlated"
      ],
      "execution_count": 0,
      "outputs": [
        {
          "output_type": "stream",
          "text": [
            "/usr/local/lib/python3.6/dist-packages/statsmodels/tools/_testing.py:19: FutureWarning: pandas.util.testing is deprecated. Use the functions in the public API at pandas.testing instead.\n",
            "  import pandas.util.testing as tm\n"
          ],
          "name": "stderr"
        },
        {
          "output_type": "display_data",
          "data": {
            "image/png": "[encoded data removed]",
            "text/plain": [
              "<Figure size 1080x720 with 2 Axes>"
            ]
          },
          "metadata": {
            "tags": [],
            "needs_background": "light"
          }
        }
      ]
    },
    {
      "cell_type": "markdown",
      "metadata": {
        "id": "xfu0eLUrzxo4",
        "colab_type": "text"
      },
      "source": [
        "##2.2 manage unspecified variables"
      ]
    },
    {
      "cell_type": "code",
      "metadata": {
        "id": "cFnjQyeXzAcF",
        "colab_type": "code",
        "outputId": "0fa57376-9874-42c9-bc28-16085abd71a6",
        "colab": {
          "base_uri": "https://localhost:8080/",
          "height": 697
        }
      },
      "source": [
        "dftrain.isna().sum()"
      ],
      "execution_count": 0,
      "outputs": [
        {
          "output_type": "execute_result",
          "data": {
            "text/plain": [
              "tube_assembly_id          0\n",
              "supplier                  0\n",
              "quote_date                0\n",
              "annual_usage              0\n",
              "min_order_quantity        0\n",
              "bracket_pricing           0\n",
              "quantity                  0\n",
              "cost                      0\n",
              "material_id             229\n",
              "diameter                  0\n",
              "wall                      0\n",
              "length                    0\n",
              "num_bends                 0\n",
              "bend_radius               0\n",
              "end_a_1x                  0\n",
              "end_a_2x                  0\n",
              "end_x_1x                  0\n",
              "end_x_2x                  0\n",
              "end_a                     0\n",
              "end_x                     0\n",
              "num_boss                  0\n",
              "num_bracket               0\n",
              "other                     0\n",
              "component_id_1         1462\n",
              "quantity_1             1462\n",
              "component_id_2         9129\n",
              "quantity_2             9129\n",
              "component_id_3        23058\n",
              "quantity_3            23042\n",
              "component_id_4        29426\n",
              "quantity_4            29426\n",
              "component_id_5        30147\n",
              "quantity_5            30147\n",
              "component_id_6        30185\n",
              "quantity_6            30185\n",
              "component_id_7        30205\n",
              "quantity_7            30205\n",
              "component_id_8        30210\n",
              "quantity_8            30210\n",
              "dtype: int64"
            ]
          },
          "metadata": {
            "tags": []
          },
          "execution_count": 8
        }
      ]
    },
    {
      "cell_type": "code",
      "metadata": {
        "id": "DvRnwlMfw0oa",
        "colab_type": "code",
        "colab": {}
      },
      "source": [
        "dftrain = dftrain.loc[np.invert(dftrain['material_id'].isna())]"
      ],
      "execution_count": 0,
      "outputs": []
    },
    {
      "cell_type": "code",
      "metadata": {
        "id": "6b4mKjMnyCsW",
        "colab_type": "code",
        "colab": {}
      },
      "source": [
        "# get the log of costs\n",
        "labels = np.log(dftrain.cost.values.astype('float32'))\n",
        "\n",
        "# save Tube assembly id\n",
        "TA_id = dftrain['tube_assembly_id'].values\n",
        "\n",
        "# drop useless variables\n",
        "dftrain = dftrain.drop(['quote_date', 'tube_assembly_id','cost'],axis=1)"
      ],
      "execution_count": 0,
      "outputs": []
    },
    {
      "cell_type": "code",
      "metadata": {
        "id": "Lqh_2wVZytFr",
        "colab_type": "code",
        "colab": {}
      },
      "source": [
        "# replace unspecified variables by a blank space for qualitative variables, 0 otherwise\n",
        "for i in range(1,9):\n",
        "    column_label = 'component_id_'+str(i)\n",
        "    dftrain[column_label].replace(np.nan,' ', regex=True, inplace= True)\n",
        "dftrain.fillna(0, inplace = True)"
      ],
      "execution_count": 0,
      "outputs": []
    },
    {
      "cell_type": "markdown",
      "metadata": {
        "id": "nLPYAqAez6lJ",
        "colab_type": "text"
      },
      "source": [
        "##2.4 Manage qualitative variables"
      ]
    },
    {
      "cell_type": "code",
      "metadata": {
        "id": "l8_zMz4fbnxD",
        "colab_type": "code",
        "colab": {}
      },
      "source": [
        "# add dummy variables to our dataset\n",
        "get_dummies = ['supplier','material_id','end_a','end_x']\n",
        "for variable in get_dummies:\n",
        "  dftrain = pd.concat([dftrain,pd.get_dummies(dftrain[variable])],axis=1).drop([variable],axis=1)"
      ],
      "execution_count": 0,
      "outputs": []
    },
    {
      "cell_type": "code",
      "metadata": {
        "id": "InnsW9aSboVl",
        "colab_type": "code",
        "outputId": "f1c50ce6-5944-4e1b-8827-5fad4df1a14b",
        "colab": {
          "base_uri": "https://localhost:8080/",
          "height": 270
        }
      },
      "source": [
        "# head of dataset \n",
        "dftrain.head()"
      ],
      "execution_count": 0,
      "outputs": [
        {
          "output_type": "execute_result",
          "data": {
            "text/html": [
              "<div>\n",
              "<style scoped>\n",
              "    .dataframe tbody tr th:only-of-type {\n",
              "        vertical-align: middle;\n",
              "    }\n",
              "\n",
              "    .dataframe tbody tr th {\n",
              "        vertical-align: top;\n",
              "    }\n",
              "\n",
              "    .dataframe thead th {\n",
              "        text-align: right;\n",
              "    }\n",
              "</style>\n",
              "<table border=\"1\" class=\"dataframe\">\n",
              "  <thead>\n",
              "    <tr style=\"text-align: right;\">\n",
              "      <th></th>\n",
              "      <th>annual_usage</th>\n",
              "      <th>min_order_quantity</th>\n",
              "      <th>bracket_pricing</th>\n",
              "      <th>quantity</th>\n",
              "      <th>diameter</th>\n",
              "      <th>wall</th>\n",
              "      <th>length</th>\n",
              "      <th>num_bends</th>\n",
              "      <th>bend_radius</th>\n",
              "      <th>end_a_1x</th>\n",
              "      <th>end_a_2x</th>\n",
              "      <th>end_x_1x</th>\n",
              "      <th>end_x_2x</th>\n",
              "      <th>num_boss</th>\n",
              "      <th>num_bracket</th>\n",
              "      <th>other</th>\n",
              "      <th>component_id_1</th>\n",
              "      <th>quantity_1</th>\n",
              "      <th>component_id_2</th>\n",
              "      <th>quantity_2</th>\n",
              "      <th>component_id_3</th>\n",
              "      <th>quantity_3</th>\n",
              "      <th>component_id_4</th>\n",
              "      <th>quantity_4</th>\n",
              "      <th>component_id_5</th>\n",
              "      <th>quantity_5</th>\n",
              "      <th>component_id_6</th>\n",
              "      <th>quantity_6</th>\n",
              "      <th>component_id_7</th>\n",
              "      <th>quantity_7</th>\n",
              "      <th>component_id_8</th>\n",
              "      <th>quantity_8</th>\n",
              "      <th>S-0003</th>\n",
              "      <th>S-0004</th>\n",
              "      <th>S-0005</th>\n",
              "      <th>S-0006</th>\n",
              "      <th>S-0007</th>\n",
              "      <th>S-0008</th>\n",
              "      <th>S-0009</th>\n",
              "      <th>S-0011</th>\n",
              "      <th>...</th>\n",
              "      <th>EF-010</th>\n",
              "      <th>EF-011</th>\n",
              "      <th>EF-012</th>\n",
              "      <th>EF-013</th>\n",
              "      <th>EF-014</th>\n",
              "      <th>EF-015</th>\n",
              "      <th>EF-016</th>\n",
              "      <th>EF-017</th>\n",
              "      <th>EF-018</th>\n",
              "      <th>EF-019</th>\n",
              "      <th>EF-020</th>\n",
              "      <th>EF-021</th>\n",
              "      <th>EF-022</th>\n",
              "      <th>EF-023</th>\n",
              "      <th>EF-025</th>\n",
              "      <th>NONE</th>\n",
              "      <th>9999</th>\n",
              "      <th>EF-001</th>\n",
              "      <th>EF-002</th>\n",
              "      <th>EF-003</th>\n",
              "      <th>EF-004</th>\n",
              "      <th>EF-005</th>\n",
              "      <th>EF-006</th>\n",
              "      <th>EF-007</th>\n",
              "      <th>EF-008</th>\n",
              "      <th>EF-009</th>\n",
              "      <th>EF-010</th>\n",
              "      <th>EF-011</th>\n",
              "      <th>EF-012</th>\n",
              "      <th>EF-013</th>\n",
              "      <th>EF-014</th>\n",
              "      <th>EF-015</th>\n",
              "      <th>EF-016</th>\n",
              "      <th>EF-017</th>\n",
              "      <th>EF-018</th>\n",
              "      <th>EF-019</th>\n",
              "      <th>EF-021</th>\n",
              "      <th>EF-022</th>\n",
              "      <th>EF-023</th>\n",
              "      <th>NONE</th>\n",
              "    </tr>\n",
              "  </thead>\n",
              "  <tbody>\n",
              "    <tr>\n",
              "      <th>0</th>\n",
              "      <td>0</td>\n",
              "      <td>0</td>\n",
              "      <td>Yes</td>\n",
              "      <td>1</td>\n",
              "      <td>6.35</td>\n",
              "      <td>0.71</td>\n",
              "      <td>137.0</td>\n",
              "      <td>8</td>\n",
              "      <td>19.05</td>\n",
              "      <td>N</td>\n",
              "      <td>N</td>\n",
              "      <td>N</td>\n",
              "      <td>N</td>\n",
              "      <td>0</td>\n",
              "      <td>0</td>\n",
              "      <td>0</td>\n",
              "      <td>C-1312</td>\n",
              "      <td>2.0</td>\n",
              "      <td></td>\n",
              "      <td>0.0</td>\n",
              "      <td></td>\n",
              "      <td>0.0</td>\n",
              "      <td></td>\n",
              "      <td>0.0</td>\n",
              "      <td></td>\n",
              "      <td>0.0</td>\n",
              "      <td></td>\n",
              "      <td>0.0</td>\n",
              "      <td></td>\n",
              "      <td>0.0</td>\n",
              "      <td></td>\n",
              "      <td>0.0</td>\n",
              "      <td>0</td>\n",
              "      <td>0</td>\n",
              "      <td>0</td>\n",
              "      <td>0</td>\n",
              "      <td>0</td>\n",
              "      <td>0</td>\n",
              "      <td>0</td>\n",
              "      <td>0</td>\n",
              "      <td>...</td>\n",
              "      <td>0</td>\n",
              "      <td>0</td>\n",
              "      <td>0</td>\n",
              "      <td>0</td>\n",
              "      <td>0</td>\n",
              "      <td>0</td>\n",
              "      <td>0</td>\n",
              "      <td>0</td>\n",
              "      <td>0</td>\n",
              "      <td>0</td>\n",
              "      <td>0</td>\n",
              "      <td>0</td>\n",
              "      <td>0</td>\n",
              "      <td>0</td>\n",
              "      <td>0</td>\n",
              "      <td>0</td>\n",
              "      <td>0</td>\n",
              "      <td>0</td>\n",
              "      <td>0</td>\n",
              "      <td>0</td>\n",
              "      <td>0</td>\n",
              "      <td>0</td>\n",
              "      <td>0</td>\n",
              "      <td>0</td>\n",
              "      <td>1</td>\n",
              "      <td>0</td>\n",
              "      <td>0</td>\n",
              "      <td>0</td>\n",
              "      <td>0</td>\n",
              "      <td>0</td>\n",
              "      <td>0</td>\n",
              "      <td>0</td>\n",
              "      <td>0</td>\n",
              "      <td>0</td>\n",
              "      <td>0</td>\n",
              "      <td>0</td>\n",
              "      <td>0</td>\n",
              "      <td>0</td>\n",
              "      <td>0</td>\n",
              "      <td>0</td>\n",
              "    </tr>\n",
              "    <tr>\n",
              "      <th>1</th>\n",
              "      <td>0</td>\n",
              "      <td>0</td>\n",
              "      <td>Yes</td>\n",
              "      <td>2</td>\n",
              "      <td>6.35</td>\n",
              "      <td>0.71</td>\n",
              "      <td>137.0</td>\n",
              "      <td>8</td>\n",
              "      <td>19.05</td>\n",
              "      <td>N</td>\n",
              "      <td>N</td>\n",
              "      <td>N</td>\n",
              "      <td>N</td>\n",
              "      <td>0</td>\n",
              "      <td>0</td>\n",
              "      <td>0</td>\n",
              "      <td>C-1312</td>\n",
              "      <td>2.0</td>\n",
              "      <td></td>\n",
              "      <td>0.0</td>\n",
              "      <td></td>\n",
              "      <td>0.0</td>\n",
              "      <td></td>\n",
              "      <td>0.0</td>\n",
              "      <td></td>\n",
              "      <td>0.0</td>\n",
              "      <td></td>\n",
              "      <td>0.0</td>\n",
              "      <td></td>\n",
              "      <td>0.0</td>\n",
              "      <td></td>\n",
              "      <td>0.0</td>\n",
              "      <td>0</td>\n",
              "      <td>0</td>\n",
              "      <td>0</td>\n",
              "      <td>0</td>\n",
              "      <td>0</td>\n",
              "      <td>0</td>\n",
              "      <td>0</td>\n",
              "      <td>0</td>\n",
              "      <td>...</td>\n",
              "      <td>0</td>\n",
              "      <td>0</td>\n",
              "      <td>0</td>\n",
              "      <td>0</td>\n",
              "      <td>0</td>\n",
              "      <td>0</td>\n",
              "      <td>0</td>\n",
              "      <td>0</td>\n",
              "      <td>0</td>\n",
              "      <td>0</td>\n",
              "      <td>0</td>\n",
              "      <td>0</td>\n",
              "      <td>0</td>\n",
              "      <td>0</td>\n",
              "      <td>0</td>\n",
              "      <td>0</td>\n",
              "      <td>0</td>\n",
              "      <td>0</td>\n",
              "      <td>0</td>\n",
              "      <td>0</td>\n",
              "      <td>0</td>\n",
              "      <td>0</td>\n",
              "      <td>0</td>\n",
              "      <td>0</td>\n",
              "      <td>1</td>\n",
              "      <td>0</td>\n",
              "      <td>0</td>\n",
              "      <td>0</td>\n",
              "      <td>0</td>\n",
              "      <td>0</td>\n",
              "      <td>0</td>\n",
              "      <td>0</td>\n",
              "      <td>0</td>\n",
              "      <td>0</td>\n",
              "      <td>0</td>\n",
              "      <td>0</td>\n",
              "      <td>0</td>\n",
              "      <td>0</td>\n",
              "      <td>0</td>\n",
              "      <td>0</td>\n",
              "    </tr>\n",
              "    <tr>\n",
              "      <th>2</th>\n",
              "      <td>0</td>\n",
              "      <td>0</td>\n",
              "      <td>Yes</td>\n",
              "      <td>5</td>\n",
              "      <td>6.35</td>\n",
              "      <td>0.71</td>\n",
              "      <td>137.0</td>\n",
              "      <td>8</td>\n",
              "      <td>19.05</td>\n",
              "      <td>N</td>\n",
              "      <td>N</td>\n",
              "      <td>N</td>\n",
              "      <td>N</td>\n",
              "      <td>0</td>\n",
              "      <td>0</td>\n",
              "      <td>0</td>\n",
              "      <td>C-1312</td>\n",
              "      <td>2.0</td>\n",
              "      <td></td>\n",
              "      <td>0.0</td>\n",
              "      <td></td>\n",
              "      <td>0.0</td>\n",
              "      <td></td>\n",
              "      <td>0.0</td>\n",
              "      <td></td>\n",
              "      <td>0.0</td>\n",
              "      <td></td>\n",
              "      <td>0.0</td>\n",
              "      <td></td>\n",
              "      <td>0.0</td>\n",
              "      <td></td>\n",
              "      <td>0.0</td>\n",
              "      <td>0</td>\n",
              "      <td>0</td>\n",
              "      <td>0</td>\n",
              "      <td>0</td>\n",
              "      <td>0</td>\n",
              "      <td>0</td>\n",
              "      <td>0</td>\n",
              "      <td>0</td>\n",
              "      <td>...</td>\n",
              "      <td>0</td>\n",
              "      <td>0</td>\n",
              "      <td>0</td>\n",
              "      <td>0</td>\n",
              "      <td>0</td>\n",
              "      <td>0</td>\n",
              "      <td>0</td>\n",
              "      <td>0</td>\n",
              "      <td>0</td>\n",
              "      <td>0</td>\n",
              "      <td>0</td>\n",
              "      <td>0</td>\n",
              "      <td>0</td>\n",
              "      <td>0</td>\n",
              "      <td>0</td>\n",
              "      <td>0</td>\n",
              "      <td>0</td>\n",
              "      <td>0</td>\n",
              "      <td>0</td>\n",
              "      <td>0</td>\n",
              "      <td>0</td>\n",
              "      <td>0</td>\n",
              "      <td>0</td>\n",
              "      <td>0</td>\n",
              "      <td>1</td>\n",
              "      <td>0</td>\n",
              "      <td>0</td>\n",
              "      <td>0</td>\n",
              "      <td>0</td>\n",
              "      <td>0</td>\n",
              "      <td>0</td>\n",
              "      <td>0</td>\n",
              "      <td>0</td>\n",
              "      <td>0</td>\n",
              "      <td>0</td>\n",
              "      <td>0</td>\n",
              "      <td>0</td>\n",
              "      <td>0</td>\n",
              "      <td>0</td>\n",
              "      <td>0</td>\n",
              "    </tr>\n",
              "    <tr>\n",
              "      <th>3</th>\n",
              "      <td>0</td>\n",
              "      <td>0</td>\n",
              "      <td>Yes</td>\n",
              "      <td>10</td>\n",
              "      <td>6.35</td>\n",
              "      <td>0.71</td>\n",
              "      <td>137.0</td>\n",
              "      <td>8</td>\n",
              "      <td>19.05</td>\n",
              "      <td>N</td>\n",
              "      <td>N</td>\n",
              "      <td>N</td>\n",
              "      <td>N</td>\n",
              "      <td>0</td>\n",
              "      <td>0</td>\n",
              "      <td>0</td>\n",
              "      <td>C-1312</td>\n",
              "      <td>2.0</td>\n",
              "      <td></td>\n",
              "      <td>0.0</td>\n",
              "      <td></td>\n",
              "      <td>0.0</td>\n",
              "      <td></td>\n",
              "      <td>0.0</td>\n",
              "      <td></td>\n",
              "      <td>0.0</td>\n",
              "      <td></td>\n",
              "      <td>0.0</td>\n",
              "      <td></td>\n",
              "      <td>0.0</td>\n",
              "      <td></td>\n",
              "      <td>0.0</td>\n",
              "      <td>0</td>\n",
              "      <td>0</td>\n",
              "      <td>0</td>\n",
              "      <td>0</td>\n",
              "      <td>0</td>\n",
              "      <td>0</td>\n",
              "      <td>0</td>\n",
              "      <td>0</td>\n",
              "      <td>...</td>\n",
              "      <td>0</td>\n",
              "      <td>0</td>\n",
              "      <td>0</td>\n",
              "      <td>0</td>\n",
              "      <td>0</td>\n",
              "      <td>0</td>\n",
              "      <td>0</td>\n",
              "      <td>0</td>\n",
              "      <td>0</td>\n",
              "      <td>0</td>\n",
              "      <td>0</td>\n",
              "      <td>0</td>\n",
              "      <td>0</td>\n",
              "      <td>0</td>\n",
              "      <td>0</td>\n",
              "      <td>0</td>\n",
              "      <td>0</td>\n",
              "      <td>0</td>\n",
              "      <td>0</td>\n",
              "      <td>0</td>\n",
              "      <td>0</td>\n",
              "      <td>0</td>\n",
              "      <td>0</td>\n",
              "      <td>0</td>\n",
              "      <td>1</td>\n",
              "      <td>0</td>\n",
              "      <td>0</td>\n",
              "      <td>0</td>\n",
              "      <td>0</td>\n",
              "      <td>0</td>\n",
              "      <td>0</td>\n",
              "      <td>0</td>\n",
              "      <td>0</td>\n",
              "      <td>0</td>\n",
              "      <td>0</td>\n",
              "      <td>0</td>\n",
              "      <td>0</td>\n",
              "      <td>0</td>\n",
              "      <td>0</td>\n",
              "      <td>0</td>\n",
              "    </tr>\n",
              "    <tr>\n",
              "      <th>4</th>\n",
              "      <td>0</td>\n",
              "      <td>0</td>\n",
              "      <td>Yes</td>\n",
              "      <td>25</td>\n",
              "      <td>6.35</td>\n",
              "      <td>0.71</td>\n",
              "      <td>137.0</td>\n",
              "      <td>8</td>\n",
              "      <td>19.05</td>\n",
              "      <td>N</td>\n",
              "      <td>N</td>\n",
              "      <td>N</td>\n",
              "      <td>N</td>\n",
              "      <td>0</td>\n",
              "      <td>0</td>\n",
              "      <td>0</td>\n",
              "      <td>C-1312</td>\n",
              "      <td>2.0</td>\n",
              "      <td></td>\n",
              "      <td>0.0</td>\n",
              "      <td></td>\n",
              "      <td>0.0</td>\n",
              "      <td></td>\n",
              "      <td>0.0</td>\n",
              "      <td></td>\n",
              "      <td>0.0</td>\n",
              "      <td></td>\n",
              "      <td>0.0</td>\n",
              "      <td></td>\n",
              "      <td>0.0</td>\n",
              "      <td></td>\n",
              "      <td>0.0</td>\n",
              "      <td>0</td>\n",
              "      <td>0</td>\n",
              "      <td>0</td>\n",
              "      <td>0</td>\n",
              "      <td>0</td>\n",
              "      <td>0</td>\n",
              "      <td>0</td>\n",
              "      <td>0</td>\n",
              "      <td>...</td>\n",
              "      <td>0</td>\n",
              "      <td>0</td>\n",
              "      <td>0</td>\n",
              "      <td>0</td>\n",
              "      <td>0</td>\n",
              "      <td>0</td>\n",
              "      <td>0</td>\n",
              "      <td>0</td>\n",
              "      <td>0</td>\n",
              "      <td>0</td>\n",
              "      <td>0</td>\n",
              "      <td>0</td>\n",
              "      <td>0</td>\n",
              "      <td>0</td>\n",
              "      <td>0</td>\n",
              "      <td>0</td>\n",
              "      <td>0</td>\n",
              "      <td>0</td>\n",
              "      <td>0</td>\n",
              "      <td>0</td>\n",
              "      <td>0</td>\n",
              "      <td>0</td>\n",
              "      <td>0</td>\n",
              "      <td>0</td>\n",
              "      <td>1</td>\n",
              "      <td>0</td>\n",
              "      <td>0</td>\n",
              "      <td>0</td>\n",
              "      <td>0</td>\n",
              "      <td>0</td>\n",
              "      <td>0</td>\n",
              "      <td>0</td>\n",
              "      <td>0</td>\n",
              "      <td>0</td>\n",
              "      <td>0</td>\n",
              "      <td>0</td>\n",
              "      <td>0</td>\n",
              "      <td>0</td>\n",
              "      <td>0</td>\n",
              "      <td>0</td>\n",
              "    </tr>\n",
              "  </tbody>\n",
              "</table>\n",
              "<p>5 rows × 155 columns</p>\n",
              "</div>"
            ],
            "text/plain": [
              "   annual_usage  min_order_quantity bracket_pricing  ...  EF-022  EF-023  NONE\n",
              "0             0                   0             Yes  ...       0       0     0\n",
              "1             0                   0             Yes  ...       0       0     0\n",
              "2             0                   0             Yes  ...       0       0     0\n",
              "3             0                   0             Yes  ...       0       0     0\n",
              "4             0                   0             Yes  ...       0       0     0\n",
              "\n",
              "[5 rows x 155 columns]"
            ]
          },
          "metadata": {
            "tags": []
          },
          "execution_count": 13
        }
      ]
    },
    {
      "cell_type": "code",
      "metadata": {
        "id": "JInPmoU1bobm",
        "colab_type": "code",
        "colab": {}
      },
      "source": [
        "# extract data from pandas dataframe\n",
        "train = dftrain.values"
      ],
      "execution_count": 0,
      "outputs": []
    },
    {
      "cell_type": "code",
      "metadata": {
        "id": "PKxZzzIPz6IQ",
        "colab_type": "code",
        "colab": {}
      },
      "source": [
        "# label encode the categorical variables\n",
        "for i in range(train.shape[1]):\n",
        "      #if i in [0,3,5,11,12,13,14,15,16,20,22,24,26,28,30,32,34]:\n",
        "      if i in [0,2,9,10,11,12,16,18,20,22,24,26,28,30]:\n",
        "        label_encoder = preprocessing.LabelEncoder()\n",
        "        label_encoder.fit(list(train[:,i]))\n",
        "        train[:,i] = label_encoder.transform(train[:,i])"
      ],
      "execution_count": 0,
      "outputs": []
    },
    {
      "cell_type": "markdown",
      "metadata": {
        "id": "xydb6kF7jK6G",
        "colab_type": "text"
      },
      "source": [
        "##2.5 Divide our dataset into train and test sets"
      ]
    },
    {
      "cell_type": "code",
      "metadata": {
        "id": "dlfDh0KLkaQt",
        "colab_type": "code",
        "colab": {}
      },
      "source": [
        "dico_id = {}\n",
        "for k,id in enumerate(TA_id):\n",
        "  dico_id[id] = dico_id.get(id,[]) + [k]\n",
        "\n",
        "all_ids = np.array(list(dico_id.keys()))\n",
        "\n",
        "mask = np.random.choice(2,size=len(all_ids),p=[0.8,0.2]).astype(bool)"
      ],
      "execution_count": 0,
      "outputs": []
    },
    {
      "cell_type": "code",
      "metadata": {
        "id": "b0gcBOpHWkzP",
        "colab_type": "code",
        "colab": {}
      },
      "source": [
        "train = train.astype('float32')\n",
        "X_test = []\n",
        "y_test = []\n",
        "X_train = []\n",
        "y_train = []\n",
        "\n",
        "test_ids = all_ids[mask]\n",
        "\n",
        "for id in all_ids:\n",
        "  if id in test_ids:\n",
        "    for k in dico_id[id]:\n",
        "      X_test += [train[k]]\n",
        "      y_test += [labels[k]]\n",
        "  else:\n",
        "    for k in dico_id[id]:\n",
        "      X_train += [train[k]]\n",
        "      y_train += [labels[k]]\n",
        "\n",
        "X_test = np.array(X_test)\n",
        "y_test = np.array(y_test)\n",
        "X_train = np.array(X_train)\n",
        "y_train = np.array(y_train)"
      ],
      "execution_count": 0,
      "outputs": []
    },
    {
      "cell_type": "markdown",
      "metadata": {
        "id": "h1vhn49m0EtH",
        "colab_type": "text"
      },
      "source": [
        "## 2.6 Detect outliers"
      ]
    },
    {
      "cell_type": "code",
      "metadata": {
        "id": "SZzzJow8u1r5",
        "colab_type": "code",
        "colab": {}
      },
      "source": [
        "from sklearn.cluster import DBSCAN\n",
        "outlier_detection = DBSCAN(\n",
        "  eps = 3,\n",
        "  metric=\"euclidean\",\n",
        "  min_samples = 3,\n",
        "  n_jobs = -1)\n",
        "clusters = outlier_detection.fit_predict(X_train[:,4:7])"
      ],
      "execution_count": 0,
      "outputs": []
    },
    {
      "cell_type": "code",
      "metadata": {
        "id": "ni_r7aSwu6o9",
        "colab_type": "code",
        "outputId": "5a081f70-e368-4986-c0b3-4edb116fcb41",
        "colab": {
          "base_uri": "https://localhost:8080/",
          "height": 34
        }
      },
      "source": [
        "not_outliers = clusters!=-1\n",
        "print('there are ',len(clusters[clusters==-1]),' outliers')"
      ],
      "execution_count": 0,
      "outputs": [
        {
          "output_type": "stream",
          "text": [
            "there are  260  outliers\n"
          ],
          "name": "stdout"
        }
      ]
    },
    {
      "cell_type": "code",
      "metadata": {
        "id": "zDUBtOqYwTnz",
        "colab_type": "code",
        "colab": {}
      },
      "source": [
        "#Remove outliers doesn't improve results so we keep them\n",
        "#X_train = X_train[not_outliers]\n",
        "#y_train = y_train[not_outliers]"
      ],
      "execution_count": 0,
      "outputs": []
    },
    {
      "cell_type": "code",
      "metadata": {
        "id": "uH4pMPLkzarw",
        "colab_type": "code",
        "outputId": "423eaa0c-4920-44fa-df69-9abef2ab1591",
        "colab": {
          "base_uri": "https://localhost:8080/",
          "height": 34
        }
      },
      "source": [
        "print('training set has shape : ',X_train.shape)"
      ],
      "execution_count": 0,
      "outputs": [
        {
          "output_type": "stream",
          "text": [
            "training set has shape :  (24207, 155)\n"
          ],
          "name": "stdout"
        }
      ]
    },
    {
      "cell_type": "markdown",
      "metadata": {
        "id": "XN3ksdMEBNKc",
        "colab_type": "text"
      },
      "source": [
        "#3. Pricing tool\n"
      ]
    },
    {
      "cell_type": "markdown",
      "metadata": {
        "id": "SuU0aN3AWP0-",
        "colab_type": "text"
      },
      "source": [
        "##3.0 Benchmark with linear regression and decision tree regressor"
      ]
    },
    {
      "cell_type": "markdown",
      "metadata": {
        "id": "nVpq82RKWXEm",
        "colab_type": "text"
      },
      "source": [
        "### 3.0.1 Linear regression"
      ]
    },
    {
      "cell_type": "code",
      "metadata": {
        "id": "7dODs7aYWWMG",
        "colab_type": "code",
        "outputId": "76138f93-38e6-4088-c48c-b49cbaa9c629",
        "colab": {
          "base_uri": "https://localhost:8080/",
          "height": 51
        }
      },
      "source": [
        "from sklearn.linear_model import LinearRegression\n",
        "lreg = LinearRegression()\n",
        "lreg.fit(X_train,y_train)\n",
        "\n",
        "pred_train_lreg = lreg.predict(X_train)\n",
        "pred_test_lreg = lreg.predict(X_test)\n",
        "\n",
        "print('Root mean squared log error on train set : ',np.sqrt(np.mean((pred_train_lreg-y_train)**2)))\n",
        "print('Root mean squared log error on test set : ',np.sqrt(np.mean((pred_test_lreg-y_test)**2)))"
      ],
      "execution_count": 0,
      "outputs": [
        {
          "output_type": "stream",
          "text": [
            "Root mean squared log error on train set :  0.66726214\n",
            "Root mean squared log error on test set :  0.6880228\n"
          ],
          "name": "stdout"
        }
      ]
    },
    {
      "cell_type": "markdown",
      "metadata": {
        "id": "5q_L5L-gWb6R",
        "colab_type": "text"
      },
      "source": [
        "### 3.0.2 Decision tree regressor"
      ]
    },
    {
      "cell_type": "code",
      "metadata": {
        "id": "5TYRvSgcWWdp",
        "colab_type": "code",
        "outputId": "581890f5-4f18-4c6a-ef72-7160a8cc9e8a",
        "colab": {
          "base_uri": "https://localhost:8080/",
          "height": 446
        }
      },
      "source": [
        "from sklearn.model_selection import cross_val_score\n",
        "from sklearn.tree import DecisionTreeRegressor\n",
        "\n",
        "score_train = []\n",
        "score_test = []\n",
        "\n",
        "# We try different max_depth to find the best parameter\n",
        "\n",
        "for k in range(1,20):\n",
        "\n",
        "  dtr = DecisionTreeRegressor(max_depth=k,splitter='best')\n",
        "  dtr.fit(X_train,y_train)\n",
        "\n",
        "  pred_train = dtr.predict(X_train)\n",
        "  pred_test = dtr.predict(X_test)\n",
        "\n",
        "  score_train += [np.sqrt(np.mean((pred_train-y_train)**2))]\n",
        "  score_test += [np.sqrt(np.mean((pred_test-y_test)**2))]\n",
        "\n",
        "plt.figure(figsize=(10,7))\n",
        "plt.plot(score_train,label='train scores')\n",
        "plt.plot(score_test,label='test scores')\n",
        "plt.xlabel('max depth of the tree decision regressor',fontdict={'size':14})\n",
        "plt.ylabel('RMSE',fontdict={'size':14})\n",
        "plt.legend()\n",
        "plt.show()"
      ],
      "execution_count": 0,
      "outputs": [
        {
          "output_type": "display_data",
          "data": {
            "image/png": "[encoded data removed]",
            "text/plain": [
              "<Figure size 720x504 with 1 Axes>"
            ]
          },
          "metadata": {
            "tags": [],
            "needs_background": "light"
          }
        }
      ]
    },
    {
      "cell_type": "code",
      "metadata": {
        "id": "JMJwaDvrW7yo",
        "colab_type": "code",
        "outputId": "599743ff-a86f-4659-81d1-316d2b89d888",
        "colab": {
          "base_uri": "https://localhost:8080/",
          "height": 51
        }
      },
      "source": [
        "best_param = np.argmin(score_test)\n",
        "dtr = DecisionTreeRegressor(max_depth=best_param)\n",
        "dtr.fit(X_train,y_train)\n",
        "\n",
        "pred_train_dtr = dtr.predict(X_train)\n",
        "pred_test_dtr = dtr.predict(X_test)\n",
        "\n",
        "print('Root mean squared log error on train set : ',np.sqrt(np.mean((pred_train_dtr-y_train)**2)))\n",
        "print('Root mean squared log error on test set : ',np.sqrt(np.mean((pred_test_dtr-y_test)**2)))"
      ],
      "execution_count": 0,
      "outputs": [
        {
          "output_type": "stream",
          "text": [
            "Root mean squared log error on train set :  0.27700804791954303\n",
            "Root mean squared log error on test set :  0.4023402708351205\n"
          ],
          "name": "stdout"
        }
      ]
    },
    {
      "cell_type": "markdown",
      "metadata": {
        "id": "44klR_oTBfNQ",
        "colab_type": "text"
      },
      "source": [
        "##3.1 Random Forest"
      ]
    },
    {
      "cell_type": "code",
      "metadata": {
        "id": "ocw-Wue5iPA6",
        "colab_type": "code",
        "colab": {}
      },
      "source": [
        "from sklearn.ensemble import RandomForestRegressor\n",
        "from sklearn.ensemble import ExtraTreesRegressor"
      ],
      "execution_count": 0,
      "outputs": []
    },
    {
      "cell_type": "code",
      "metadata": {
        "id": "h2GNGkcAioo_",
        "colab_type": "code",
        "outputId": "34e69b9a-0334-4b7c-bbe4-c36d74834393",
        "colab": {
          "base_uri": "https://localhost:8080/",
          "height": 136
        }
      },
      "source": [
        "RF = RandomForestRegressor(n_estimators=100,max_depth=15)\n",
        "RF.fit(X_train,y_train)"
      ],
      "execution_count": 0,
      "outputs": [
        {
          "output_type": "execute_result",
          "data": {
            "text/plain": [
              "RandomForestRegressor(bootstrap=True, ccp_alpha=0.0, criterion='mse',\n",
              "                      max_depth=15, max_features='auto', max_leaf_nodes=None,\n",
              "                      max_samples=None, min_impurity_decrease=0.0,\n",
              "                      min_impurity_split=None, min_samples_leaf=1,\n",
              "                      min_samples_split=2, min_weight_fraction_leaf=0.0,\n",
              "                      n_estimators=100, n_jobs=None, oob_score=False,\n",
              "                      random_state=None, verbose=0, warm_start=False)"
            ]
          },
          "metadata": {
            "tags": []
          },
          "execution_count": 26
        }
      ]
    },
    {
      "cell_type": "code",
      "metadata": {
        "id": "dV_EF3Jqi51y",
        "colab_type": "code",
        "outputId": "84468e4e-900f-4875-eecc-0ad9854875a2",
        "colab": {
          "base_uri": "https://localhost:8080/",
          "height": 51
        }
      },
      "source": [
        "pred_train_rf = RF.predict(X_train)\n",
        "pred_test_rf = RF.predict(X_test)\n",
        "\n",
        "print('Root mean squared log error on train set : ',np.sqrt(np.mean((pred_train_rf-y_train)**2)))\n",
        "print('Root mean squared log error on test set : ',np.sqrt(np.mean((pred_test_rf-y_test)**2)))"
      ],
      "execution_count": 0,
      "outputs": [
        {
          "output_type": "stream",
          "text": [
            "Root mean squared log error on train set :  0.16035340736523543\n",
            "Root mean squared log error on test set :  0.3174275892644154\n"
          ],
          "name": "stdout"
        }
      ]
    },
    {
      "cell_type": "code",
      "metadata": {
        "id": "cjvfftkH1xyJ",
        "colab_type": "code",
        "outputId": "18233ced-f187-4f41-ee29-a99bd68351fd",
        "colab": {
          "base_uri": "https://localhost:8080/",
          "height": 51
        }
      },
      "source": [
        "pourcent_train, _, _ = pred_ints(RF, X_train, y_train, percentile=95)\n",
        "pourcent_test , err_down, err_up = pred_ints(RF, X_test, y_test, percentile=95)\n",
        "\n",
        "print(round(100*pourcent_train,1),'% of predictions in training set are in 95% confidence range')\n",
        "print(round(100*pourcent_test,1),'% of predictions in testing set are in 95% confidence range')"
      ],
      "execution_count": 0,
      "outputs": [
        {
          "output_type": "stream",
          "text": [
            "89.4 % of predictions in training set are in 95% confidence range\n",
            "81.0 % of predictions in testing set are in 95% confidence range\n"
          ],
          "name": "stdout"
        }
      ]
    },
    {
      "cell_type": "markdown",
      "metadata": {
        "id": "pxgATuMHBn0z",
        "colab_type": "text"
      },
      "source": [
        "##3.3 XGBoost"
      ]
    },
    {
      "cell_type": "code",
      "metadata": {
        "id": "KwywUtVXR7oa",
        "colab_type": "code",
        "colab": {}
      },
      "source": [
        "import xgboost as xgb\n",
        "from sklearn.model_selection import GridSearchCV"
      ],
      "execution_count": 0,
      "outputs": []
    },
    {
      "cell_type": "code",
      "metadata": {
        "id": "FnjDiSO0XaWC",
        "colab_type": "code",
        "outputId": "fe9f3fa2-83f2-499d-f87c-61a45775b9fb",
        "colab": {
          "base_uri": "https://localhost:8080/",
          "height": 513
        }
      },
      "source": [
        "# If we have time and computational power we can use grid_search to find best parameters\n",
        "parameters_for_testing = {\n",
        "    'eta':[0.02],\n",
        "    'min_child_weight':[4],\n",
        "    'subsample':[0.7],\n",
        "    'max_depth':[8],\n",
        "    'n_estimators':[100],\n",
        "    'colsample_bytree':[0.6],\n",
        "    'scale_pos_weight':[0.8], \n",
        "    'silent':[1],\n",
        "    'max_delta_step':[2]\n",
        "}\n",
        "                    \n",
        "xgb_model = xgb.XGBRegressor(learning_rate =0.1, n_estimators=1000, max_depth=5,\n",
        "     min_child_weight=1, gamma=0, subsample=0.8, colsample_bytree=0.8, nthread=6, scale_pos_weight=1, seed=42)\n",
        "\n",
        "gsearch1 = GridSearchCV(estimator = xgb_model, param_grid = parameters_for_testing, n_jobs=6,iid=False, verbose=10,scoring='neg_mean_squared_error')\n",
        "gsearch1.fit(X_train,y_train)"
      ],
      "execution_count": 0,
      "outputs": [
        {
          "output_type": "stream",
          "text": [
            "Fitting 5 folds for each of 1 candidates, totalling 5 fits\n"
          ],
          "name": "stdout"
        },
        {
          "output_type": "stream",
          "text": [
            "[Parallel(n_jobs=6)]: Using backend LokyBackend with 6 concurrent workers.\n",
            "[Parallel(n_jobs=6)]: Done   2 out of   5 | elapsed:   55.5s remaining:  1.4min\n",
            "[Parallel(n_jobs=6)]: Done   3 out of   5 | elapsed:   55.7s remaining:   37.1s\n",
            "[Parallel(n_jobs=6)]: Done   5 out of   5 | elapsed:   55.7s remaining:    0.0s\n",
            "[Parallel(n_jobs=6)]: Done   5 out of   5 | elapsed:   55.7s finished\n",
            "/usr/local/lib/python3.6/dist-packages/sklearn/model_selection/_search.py:823: FutureWarning: The parameter 'iid' is deprecated in 0.22 and will be removed in 0.24.\n",
            "  \"removed in 0.24.\", FutureWarning\n"
          ],
          "name": "stderr"
        },
        {
          "output_type": "execute_result",
          "data": {
            "text/plain": [
              "GridSearchCV(cv=None, error_score=nan,\n",
              "             estimator=XGBRegressor(base_score=0.5, booster='gbtree',\n",
              "                                    colsample_bylevel=1, colsample_bynode=1,\n",
              "                                    colsample_bytree=0.8, gamma=0,\n",
              "                                    importance_type='gain', learning_rate=0.1,\n",
              "                                    max_delta_step=0, max_depth=5,\n",
              "                                    min_child_weight=1, missing=None,\n",
              "                                    n_estimators=1000, n_jobs=1, nthread=6,\n",
              "                                    objective='reg:linear', random_state=0,\n",
              "                                    reg_alpha=0, r...\n",
              "                                    scale_pos_weight=1, seed=42, silent=None,\n",
              "                                    subsample=0.8, verbosity=1),\n",
              "             iid=False, n_jobs=6,\n",
              "             param_grid={'colsample_bytree': [0.6], 'eta': [0.02],\n",
              "                         'max_delta_step': [2], 'max_depth': [8],\n",
              "                         'min_child_weight': [4], 'n_estimators': [100],\n",
              "                         'scale_pos_weight': [0.8], 'silent': [1],\n",
              "                         'subsample': [0.7]},\n",
              "             pre_dispatch='2*n_jobs', refit=True, return_train_score=False,\n",
              "             scoring='neg_mean_squared_error', verbose=10)"
            ]
          },
          "metadata": {
            "tags": []
          },
          "execution_count": 30
        }
      ]
    },
    {
      "cell_type": "code",
      "metadata": {
        "id": "DaptNfaL4ROd",
        "colab_type": "code",
        "outputId": "0643d2ae-e203-4df2-9203-36bf74a5620c",
        "colab": {
          "base_uri": "https://localhost:8080/",
          "height": 105
        }
      },
      "source": [
        "print('best params')\n",
        "print (gsearch1.best_params_)\n",
        "print('best score')\n",
        "print (gsearch1.best_score_)"
      ],
      "execution_count": 0,
      "outputs": [
        {
          "output_type": "stream",
          "text": [
            "best params\n",
            "{'colsample_bytree': 0.6, 'eta': 0.02, 'max_delta_step': 2, 'max_depth': 8, 'min_child_weight': 4, 'n_estimators': 100, 'scale_pos_weight': 0.8, 'silent': 1, 'subsample': 0.7}\n",
            "best score\n",
            "-0.10407018363475799\n"
          ],
          "name": "stdout"
        }
      ]
    },
    {
      "cell_type": "code",
      "metadata": {
        "id": "aumnbeCvufg9",
        "colab_type": "code",
        "colab": {}
      },
      "source": [
        "# Set the parameters of XGBoost\n",
        "params = {}\n",
        "params[\"objective\"] = \"reg:linear\"\n",
        "params[\"eta\"] = 0.02\n",
        "params[\"min_child_weight\"] = 4\n",
        "params[\"subsample\"] = 0.7\n",
        "params[\"colsample_bytree\"] = 0.6\n",
        "params[\"scale_pos_weight\"] = 0.8\n",
        "params[\"silent\"] = 1\n",
        "params[\"max_depth\"] = 8\n",
        "params[\"max_delta_step\"]=2"
      ],
      "execution_count": 0,
      "outputs": []
    },
    {
      "cell_type": "code",
      "metadata": {
        "id": "y6VHVQv0uj96",
        "colab_type": "code",
        "colab": {}
      },
      "source": [
        "parameters = list(params.items())\n",
        "\n",
        "xgtrain = xgb.DMatrix(X_train, label=y_train)\n",
        "xgtest = xgb.DMatrix(X_test, label=y_test)\n",
        "\n",
        "num_rounds = 1000\n",
        "xgb_model = xgb.train(parameters, xgtrain, num_rounds)"
      ],
      "execution_count": 0,
      "outputs": []
    },
    {
      "cell_type": "code",
      "metadata": {
        "id": "KqEn8eyKSrv9",
        "colab_type": "code",
        "outputId": "02810155-0277-404c-8df4-533ba8895cb0",
        "colab": {
          "base_uri": "https://localhost:8080/",
          "height": 51
        }
      },
      "source": [
        "pred_test_xgb = xgb_model.predict(xgtest)\n",
        "pred_train_xgb = xgb_model.predict(xgtrain)\n",
        "\n",
        "print('Root mean squared log error on train set : ',np.sqrt(np.mean((pred_train_xgb-y_train)**2)))\n",
        "print('Root mean squared log error on test set : ',np.sqrt(np.mean((pred_test_xgb-y_test)**2)))"
      ],
      "execution_count": 0,
      "outputs": [
        {
          "output_type": "stream",
          "text": [
            "Root mean squared log error on train set :  0.15021685\n",
            "Root mean squared log error on test set :  0.27035743\n"
          ],
          "name": "stdout"
        }
      ]
    },
    {
      "cell_type": "code",
      "metadata": {
        "id": "aeYy8vbhWeuW",
        "colab_type": "code",
        "outputId": "e69267da-7fe7-4bd4-ab05-bf47ba8512ac",
        "colab": {
          "base_uri": "https://localhost:8080/",
          "height": 714
        }
      },
      "source": [
        "plot_predictions(pred_test_xgb, pred_test_rf, pred_test_dtr, pred_test_lreg, y_test)"
      ],
      "execution_count": 0,
      "outputs": [
        {
          "output_type": "display_data",
          "data": {
            "image/png": "[encoded data removed]",
            "text/plain": [
              "<Figure size 1080x864 with 4 Axes>"
            ]
          },
          "metadata": {
            "tags": [],
            "needs_background": "light"
          }
        }
      ]
    },
    {
      "cell_type": "markdown",
      "metadata": {
        "id": "ohdEjDeMUY0u",
        "colab_type": "text"
      },
      "source": [
        "To get confidence range for XGBoost, refer to : https://towardsdatascience.com/regression-prediction-intervals-with-xgboost-428e0a018b"
      ]
    },
    {
      "cell_type": "markdown",
      "metadata": {
        "id": "KpqRJsEtBHWu",
        "colab_type": "text"
      },
      "source": [
        "#4. reduce the cost of a public works project"
      ]
    },
    {
      "cell_type": "markdown",
      "metadata": {
        "id": "K9ulMix7Eu7z",
        "colab_type": "text"
      },
      "source": [
        "##4.1 Choosing the material\n",
        "\n",
        "Here we study the variation of the price according to the material"
      ]
    },
    {
      "cell_type": "code",
      "metadata": {
        "id": "lZapmhnxk6ED",
        "colab_type": "code",
        "outputId": "6e7c320a-a5b0-4250-f3bc-23a113f2d2d3",
        "colab": {
          "base_uri": "https://localhost:8080/",
          "height": 85
        }
      },
      "source": [
        "dftrain.columns[89:89+17]"
      ],
      "execution_count": 0,
      "outputs": [
        {
          "output_type": "execute_result",
          "data": {
            "text/plain": [
              "Index(['SP-0008', 'SP-0019', 'SP-0028', 'SP-0029', 'SP-0030', 'SP-0031',\n",
              "       'SP-0032', 'SP-0033', 'SP-0034', 'SP-0035', 'SP-0036', 'SP-0037',\n",
              "       'SP-0038', 'SP-0039', 'SP-0041', 'SP-0046', 'SP-0048'],\n",
              "      dtype='object')"
            ]
          },
          "metadata": {
            "tags": []
          },
          "execution_count": 37
        }
      ]
    },
    {
      "cell_type": "code",
      "metadata": {
        "id": "ZAQOnzVZUhU3",
        "colab_type": "code",
        "outputId": "0282322a-2dc5-4d45-aa55-ccf1af1a7e42",
        "colab": {
          "base_uri": "https://localhost:8080/",
          "height": 739
        }
      },
      "source": [
        "data = np.copy(X_test[100:101])\n",
        "prices = []\n",
        "for k in range(17):\n",
        "  data[0,89:106] = np.zeros(17)\n",
        "  data[0,89+k] = 1\n",
        "  prices += [xgb_model.predict(xgb.DMatrix(data))]\n",
        "\n",
        "prices = np.exp(np.array(prices))\n",
        "fig, ax = plt.subplots(figsize=(16,10), facecolor='white', dpi= 80)\n",
        "ax.vlines(x=dftrain.columns[89:89+17], ymin=min(prices), ymax=prices, color='firebrick', alpha=0.7, linewidth=20)\n",
        "m = np.mean(prices)-np.min(prices)\n",
        "for i, price in enumerate(prices):\n",
        "    ax.text(i, price+0.1*m, np.round(price, 2), horizontalalignment='center')\n",
        "plt.title('Price changes by material',fontdict={'size':22})\n",
        "plt.legend()\n",
        "plt.show()"
      ],
      "execution_count": 0,
      "outputs": [
        {
          "output_type": "stream",
          "text": [
            "/usr/local/lib/python3.6/dist-packages/matplotlib/text.py:1165: FutureWarning: elementwise comparison failed; returning scalar instead, but in the future will perform elementwise comparison\n",
            "  if s != self._text:\n",
            "No handles with labels found to put in legend.\n"
          ],
          "name": "stderr"
        },
        {
          "output_type": "display_data",
          "data": {
            "image/png": "[encoded data removed]",
            "text/plain": [
              "<Figure size 1280x800 with 1 Axes>"
            ]
          },
          "metadata": {
            "tags": []
          }
        }
      ]
    },
    {
      "cell_type": "markdown",
      "metadata": {
        "id": "5BfI58SvEyfK",
        "colab_type": "text"
      },
      "source": [
        "##4.2 Reduce dimensions of the tube \n",
        "\n",
        "In this part we study the possibility of reducing dimensions of tubes to reduce their price"
      ]
    },
    {
      "cell_type": "code",
      "metadata": {
        "id": "OAnO15YpEy3C",
        "colab_type": "code",
        "colab": {}
      },
      "source": [
        "data = np.copy(X_test[0:1])\n",
        "wall = data[0,6]"
      ],
      "execution_count": 0,
      "outputs": []
    },
    {
      "cell_type": "code",
      "metadata": {
        "id": "5v05ZkpjOL6f",
        "colab_type": "code",
        "outputId": "8fa4e6df-9805-4794-aed9-00417a3eaa19",
        "colab": {
          "base_uri": "https://localhost:8080/",
          "height": 388
        }
      },
      "source": [
        "fig, axs = plt.subplots(1, 2, figsize=(15,6))\n",
        "\n",
        "data = np.copy(X_test[:1])\n",
        "wall = data[0,6]\n",
        "prices = []\n",
        "walls = []\n",
        "for k in range(20):\n",
        "  data[0,6] = k*0.1*wall\n",
        "  walls += [k*0.1*wall]\n",
        "  prices += [xgb_model.predict(xgb.DMatrix(data))]\n",
        "\n",
        "axs[0].plot(walls, prices, label='xgboost')\n",
        "axs[0].legend()\n",
        "axs[0].set_xlabel('length')\n",
        "axs[0].set_ylabel('tube prices')\n",
        "\n",
        "data = np.copy(X_test[:1])\n",
        "wall = data[0,6]\n",
        "prices = []\n",
        "walls = []\n",
        "for k in range(20):\n",
        "  data[0,6] = k*0.1*wall\n",
        "  walls += [k*0.1*wall]\n",
        "  prices += [RF.predict(data)]\n",
        "\n",
        "axs[1].plot(walls, prices, label='random forest')\n",
        "axs[1].legend()\n",
        "axs[1].set_xlabel('length')\n",
        "axs[1].set_ylabel('tube prices')\n",
        "\n",
        "plt.show()"
      ],
      "execution_count": 0,
      "outputs": [
        {
          "output_type": "display_data",
          "data": {
            "image/png": "[encoded data removed]",
            "text/plain": [
              "<Figure size 1080x432 with 2 Axes>"
            ]
          },
          "metadata": {
            "tags": [],
            "needs_background": "light"
          }
        }
      ]
    },
    {
      "cell_type": "code",
      "metadata": {
        "id": "nv2xbDWtH3lf",
        "colab_type": "code",
        "colab": {}
      },
      "source": [
        ""
      ],
      "execution_count": 0,
      "outputs": []
    }
  ]
}